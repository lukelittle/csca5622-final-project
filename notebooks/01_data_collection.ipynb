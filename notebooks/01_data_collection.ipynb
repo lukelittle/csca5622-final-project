{
 "cells": [
  {
   "cell_type": "markdown",
   "metadata": {},
   "source": [
    "# NBA Playoff Predictor - Data Collection\n",
    "\n",
    "This notebook is responsible for gathering the raw data needed to build our NBA Playoff Predictor. We collect historical NBA team statistics from multiple Kaggle datasets to build a comprehensive dataset for predicting playoff outcomes.\n",
    "\n",
    "## Notebook Overview\n",
    "\n",
    "This notebook is divided into the following sections for clarity:\n",
    "\n",
    "1. **Setup and Imports**: Prepare the environment and import necessary libraries.\n",
    "2. **Kaggle Data Collection**: Download historical team statistics from Kaggle.\n",
    "3. **Collection Summary**: Summarize the results of the data collection process.\n"
   ]
  },
  {
   "cell_type": "markdown",
   "metadata": {},
   "source": [
    "## Setup and Imports\n",
    "\n",
    "In this section, we set up the environment by importing the required libraries and initializing logging. Logging helps us track the progress of the data collection process and identify any issues that occur."
   ]
  },
  {
   "cell_type": "code",
   "execution_count": 6,
   "metadata": {},
   "outputs": [],
   "source": [
    "import os\n",
    "import sys\n",
    "from datetime import datetime\n",
    "\n",
    "# Add the src directory to the Python path to access utility functions\n",
    "sys.path.append('..')\n",
    "\n",
    "# Import utility functions and classes for logging and progress tracking\n",
    "from src.data.utils import setup_logging, DataCollectionProgress\n",
    "from src.data.collectors.kaggle_collector import KaggleCollector\n",
    "\n",
    "# Set up logging to track the progress of the data collection process\n",
    "logger = setup_logging()\n",
    "\n",
    "# Initialize a progress tracker to monitor the status of each data collection task\n",
    "progress = DataCollectionProgress()\n",
    "\n",
    "# Initialize the KaggleCollector to manage dataset downloads\n",
    "kaggle = KaggleCollector('../data/raw/kaggle')"
   ]
  },
  {
   "cell_type": "markdown",
   "metadata": {},
   "source": [
    "## Kaggle Data Collection\n",
    "\n",
    "In this section, we use the Kaggle API to download historical team statistics. Each dataset is downloaded separately for better control and visibility of the process.\n",
    "\n",
    "### NBA Shot Locations Dataset\n",
    "\n",
    "This dataset contains detailed shot location and type data, which will be used to enhance team shooting profile analysis."
   ]
  },
  {
   "cell_type": "code",
   "execution_count": 7,
   "metadata": {},
   "outputs": [
    {
     "name": "stderr",
     "output_type": "stream",
     "text": [
      "2024-12-10 23:38:34 - INFO - Downloading dataset: nba_shots\n"
     ]
    },
    {
     "name": "stdout",
     "output_type": "stream",
     "text": [
      "Dataset URL: https://www.kaggle.com/datasets/mexwell/nba-shots\n"
     ]
    },
    {
     "name": "stderr",
     "output_type": "stream",
     "text": [
      "2024-12-10 23:38:40 - INFO - Successfully downloaded nba_shots\n",
      "2024-12-10 23:38:40 - INFO - Successfully downloaded NBA shots dataset\n"
     ]
    }
   ],
   "source": [
    "# Download NBA Shots Dataset\n",
    "progress.add_task('download_shots', total_steps=1)\n",
    "progress.start_task('download_shots')\n",
    "\n",
    "try:\n",
    "    result = kaggle.download_dataset('nba_shots', 'mexwell/nba-shots')\n",
    "    if result['status'] == 'success':\n",
    "        logger.info(\"Successfully downloaded NBA shots dataset\")\n",
    "        progress.complete_task('download_shots')\n",
    "    else:\n",
    "        logger.error(f\"Failed to download NBA shots dataset: {result['error']}\")\n",
    "        progress.complete_task('download_shots', success=False)\n",
    "except Exception as e:\n",
    "    logger.error(f\"Error downloading NBA shots dataset: {str(e)}\")\n",
    "    progress.complete_task('download_shots', success=False, error=str(e))"
   ]
  },
  {
   "cell_type": "markdown",
   "metadata": {},
   "source": [
    "### NBA Injury Statistics Dataset\n",
    "\n",
    "This dataset contains historical injury data from 1951-2023, providing important context for team performance variations."
   ]
  },
  {
   "cell_type": "code",
   "execution_count": 8,
   "metadata": {},
   "outputs": [
    {
     "name": "stderr",
     "output_type": "stream",
     "text": [
      "2024-12-10 23:38:40 - INFO - Downloading dataset: nba_injuries\n"
     ]
    },
    {
     "name": "stdout",
     "output_type": "stream",
     "text": [
      "Dataset URL: https://www.kaggle.com/datasets/loganlauton/nba-injury-stats-1951-2023\n"
     ]
    },
    {
     "name": "stderr",
     "output_type": "stream",
     "text": [
      "2024-12-10 23:38:40 - INFO - Successfully downloaded nba_injuries\n",
      "2024-12-10 23:38:40 - INFO - Successfully downloaded NBA injury stats dataset\n"
     ]
    }
   ],
   "source": [
    "# Download NBA Injury Stats Dataset\n",
    "progress.add_task('download_injuries', total_steps=1)\n",
    "progress.start_task('download_injuries')\n",
    "\n",
    "try:\n",
    "    result = kaggle.download_dataset('nba_injuries', 'loganlauton/nba-injury-stats-1951-2023')\n",
    "    if result['status'] == 'success':\n",
    "        logger.info(\"Successfully downloaded NBA injury stats dataset\")\n",
    "        progress.complete_task('download_injuries')\n",
    "    else:\n",
    "        logger.error(f\"Failed to download NBA injury stats dataset: {result['error']}\")\n",
    "        progress.complete_task('download_injuries', success=False)\n",
    "except Exception as e:\n",
    "    logger.error(f\"Error downloading NBA injury stats dataset: {str(e)}\")\n",
    "    progress.complete_task('download_injuries', success=False, error=str(e))"
   ]
  },
  {
   "cell_type": "markdown",
   "metadata": {},
   "source": [
    "### NBA/ABA/BAA Team Statistics Dataset\n",
    "\n",
    "This is our primary dataset containing historical team statistics from 1950 to present, including regular season statistics and advanced metrics."
   ]
  },
  {
   "cell_type": "code",
   "execution_count": 9,
   "metadata": {},
   "outputs": [
    {
     "name": "stderr",
     "output_type": "stream",
     "text": [
      "2024-12-10 23:38:40 - INFO - Downloading dataset: nba_team_stats\n"
     ]
    },
    {
     "name": "stdout",
     "output_type": "stream",
     "text": [
      "Dataset URL: https://www.kaggle.com/datasets/sumitrodatta/nba-aba-baa-stats\n"
     ]
    },
    {
     "name": "stderr",
     "output_type": "stream",
     "text": [
      "2024-12-10 23:38:41 - INFO - Successfully downloaded nba_team_stats\n",
      "2024-12-10 23:38:41 - INFO - Successfully downloaded NBA team stats dataset\n"
     ]
    }
   ],
   "source": [
    "# Download NBA Team Stats Dataset\n",
    "progress.add_task('download_team_stats', total_steps=1)\n",
    "progress.start_task('download_team_stats')\n",
    "\n",
    "try:\n",
    "    result = kaggle.download_dataset('nba_team_stats', 'sumitrodatta/nba-aba-baa-stats')\n",
    "    if result['status'] == 'success':\n",
    "        logger.info(\"Successfully downloaded NBA team stats dataset\")\n",
    "        progress.complete_task('download_team_stats')\n",
    "    else:\n",
    "        logger.error(f\"Failed to download NBA team stats dataset: {result['error']}\")\n",
    "        progress.complete_task('download_team_stats', success=False)\n",
    "except Exception as e:\n",
    "    logger.error(f\"Error downloading NBA team stats dataset: {str(e)}\")\n",
    "    progress.complete_task('download_team_stats', success=False, error=str(e))"
   ]
  },
  {
   "cell_type": "markdown",
   "metadata": {},
   "source": [
    "## Collection Summary\n",
    "\n",
    "After completing the data collection process, this section summarizes the results. It provides details about the total number of tasks completed and their status."
   ]
  },
  {
   "cell_type": "code",
   "execution_count": 10,
   "metadata": {},
   "outputs": [
    {
     "name": "stdout",
     "output_type": "stream",
     "text": [
      "Data Collection Summary:\n",
      "Total Tasks: 3\n",
      "Completed Successfully: 3\n",
      "Failed: 0\n",
      "Total Duration: 0:00:07.317472\n",
      "\n",
      "Task Details:\n",
      "\n",
      "download_shots:\n",
      "  Status: completed\n",
      "  Duration: 0:00:06.069880\n",
      "\n",
      "download_injuries:\n",
      "  Status: completed\n",
      "  Duration: 0:00:00.341802\n",
      "\n",
      "download_team_stats:\n",
      "  Status: completed\n",
      "  Duration: 0:00:00.855184\n"
     ]
    }
   ],
   "source": [
    "# Get a summary of the data collection process\n",
    "summary = progress.get_summary()\n",
    "\n",
    "print(f\"Data Collection Summary:\")\n",
    "print(f\"Total Tasks: {summary['total_tasks']}\")\n",
    "print(f\"Completed Successfully: {summary['completed_tasks']}\")\n",
    "print(f\"Failed: {summary['failed_tasks']}\")\n",
    "print(f\"Total Duration: {summary['duration']}\")\n",
    "\n",
    "print(\"\\nTask Details:\")\n",
    "for name, task in summary['tasks'].items():\n",
    "    status = task['status']\n",
    "    duration = task['end_time'] - task['start_time'] if task['end_time'] and task['start_time'] else None\n",
    "    print(f\"\\n{name}:\")\n",
    "    print(f\"  Status: {status}\")\n",
    "    print(f\"  Duration: {duration}\")\n",
    "    if task['error']:\n",
    "        print(f\"  Error: {task['error']}\")"
   ]
  }
 ],
 "metadata": {
  "kernelspec": {
   "display_name": "venv",
   "language": "python",
   "name": "python3"
  },
  "language_info": {
   "codemirror_mode": {
    "name": "ipython",
    "version": 3
   },
   "file_extension": ".py",
   "mimetype": "text/x-python",
   "name": "python",
   "nbconvert_exporter": "python",
   "pygments_lexer": "ipython3",
   "version": "3.12.2"
  }
 },
 "nbformat": 4,
 "nbformat_minor": 4
}
