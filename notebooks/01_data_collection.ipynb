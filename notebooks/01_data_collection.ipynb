{
 "cells": [
  {
   "cell_type": "markdown",
   "metadata": {},
   "source": [
    "# NBA Playoff Predictor - Data Collection\n",
    "\n",
    "This notebook is responsible for gathering the raw data needed to build our NBA Playoff Predictor. We collect historical NBA team statistics from multiple Kaggle datasets to build a comprehensive dataset for predicting playoff outcomes.\n",
    "\n",
    "---\n",
    "\n",
    "## Notebook Overview\n",
    "\n",
    "This notebook is divided into the following sections for clarity:\n",
    "\n",
    "1. **Setup and Imports**: Prepare the environment and import necessary libraries.\n",
    "2. **Directory Structure**: Create folders to store the downloaded data.\n",
    "3. **Kaggle Data Collection**: Download historical team statistics from Kaggle.\n",
    "4. **Collection Summary**: Summarize the results of the data collection process, including dataset sizes.\n",
    "\n",
    "---\n"
   ]
  },
  {
   "cell_type": "markdown",
   "metadata": {},
   "source": [
    "## 1. Setup and Imports\n",
    "\n",
    "In this section, we set up the environment by importing the required libraries and initializing logging. Logging helps us track the progress of the data collection process and identify any issues that occur."
   ]
  },
  {
   "cell_type": "code",
   "execution_count": 1,
   "metadata": {},
   "outputs": [],
   "source": [
    "import os\n",
    "import sys\n",
    "from datetime import datetime\n",
    "\n",
    "# Add the src directory to the Python path to access utility functions\n",
    "sys.path.append('..')\n",
    "\n",
    "# Import utility functions and classes for logging and progress tracking\n",
    "from src.data.utils import setup_logging, create_data_directories, DataCollectionProgress\n",
    "from src.data.collectors.kaggle_collector import KaggleCollector\n",
    "\n",
    "# Set up logging to track the progress of the data collection process\n",
    "logger = setup_logging()\n",
    "\n",
    "# Initialize a progress tracker to monitor the status of each data collection task\n",
    "progress = DataCollectionProgress()"
   ]
  },
  {
   "cell_type": "markdown",
   "metadata": {},
   "source": [
    "## 2. Directory Structure\n",
    "\n",
    "Before downloading any data, we need to ensure that the necessary folder structure exists. This section creates directories to store the raw data files. If the directories already exist, this step will simply confirm their presence."
   ]
  },
  {
   "cell_type": "code",
   "execution_count": 2,
   "metadata": {},
   "outputs": [
    {
     "name": "stderr",
     "output_type": "stream",
     "text": [
      "2024-12-09 14:20:17 - INFO - Created 8 directories\n"
     ]
    }
   ],
   "source": [
    "# Create all required directories for storing raw data\n",
    "created_dirs = create_data_directories('../data')\n",
    "logger.info(f\"Created {len(created_dirs)} directories\")"
   ]
  },
  {
   "cell_type": "markdown",
   "metadata": {},
   "source": [
    "## 3. Kaggle Data Collection\n",
    "\n",
    "In this section, we use the Kaggle API to download historical team statistics. The KaggleCollector class handles the interaction with Kaggle, including downloading datasets and saving them to the appropriate directories.\n",
    "\n",
    "### Primary Dataset: NBA/ABA/BAA Team Statistics\n",
    "\n",
    "- **Source**: NBA Teams Stats (1950-Present)\n",
    "- **Description**: Historical team statistics from 1950 to present\n",
    "- **Key Features**:\n",
    "    - Regular season team statistics (points, rebounds, assists, etc.)\n",
    "    - Advanced metrics (shooting percentages, efficiency ratings)\n",
    "    - Team identifiers and season information\n",
    "- **Size**: Approximately 1,800+ team-season records\n",
    "\n",
    "### Supporting Dataset: NBA Shot Locations\n",
    "\n",
    "- **Source**: NBA Shots Dataset\n",
    "- **Description**: Detailed shot location and type data\n",
    "- **Features**: Shot coordinates, shot types, makes/misses\n",
    "- **Purpose**: Will be used to enhance team shooting profile analysis\n",
    "- **Size**: Approximately 1,000,000+ shot records\n",
    "\n",
    "### Additional Context: NBA Injury Statistics\n",
    "\n",
    "- **Source**: NBA Injury Stats (1951-2023)\n",
    "- **Description**: Historical injury data\n",
    "- **Purpose**: Provides context for team performance variations\n",
    "- **Size**: Approximately 50,000+ injury records\n",
    "\n",
    "### Steps:\n",
    "\n",
    "1. Initialize the KaggleCollector with the path to the raw data folder.\n",
    "2. Add the Kaggle download task to the progress tracker.\n",
    "3. Download all datasets and log the results.\n",
    "4. If any datasets fail to download, log an error message."
   ]
  },
  {
   "cell_type": "code",
   "execution_count": 3,
   "metadata": {},
   "outputs": [
    {
     "name": "stderr",
     "output_type": "stream",
     "text": [
      "2024-12-09 14:20:17 - INFO - Downloading sumitrodatta/nba-aba-baa-stats...\n"
     ]
    },
    {
     "name": "stdout",
     "output_type": "stream",
     "text": [
      "Dataset URL: https://www.kaggle.com/datasets/sumitrodatta/nba-aba-baa-stats\n"
     ]
    },
    {
     "name": "stderr",
     "output_type": "stream",
     "text": [
      "2024-12-09 14:20:19 - INFO - Successfully downloaded and validated sumitrodatta/nba-aba-baa-stats\n",
      "2024-12-09 14:20:19 - INFO - Downloading mexwell/nba-shots...\n"
     ]
    },
    {
     "name": "stdout",
     "output_type": "stream",
     "text": [
      "Dataset URL: https://www.kaggle.com/datasets/mexwell/nba-shots\n"
     ]
    },
    {
     "name": "stderr",
     "output_type": "stream",
     "text": [
      "2024-12-09 14:20:28 - INFO - Successfully downloaded and validated mexwell/nba-shots\n",
      "2024-12-09 14:20:28 - INFO - Downloading loganlauton/nba-injury-stats-1951-2023...\n"
     ]
    },
    {
     "name": "stdout",
     "output_type": "stream",
     "text": [
      "Dataset URL: https://www.kaggle.com/datasets/loganlauton/nba-injury-stats-1951-2023\n"
     ]
    },
    {
     "name": "stderr",
     "output_type": "stream",
     "text": [
      "2024-12-09 14:20:28 - INFO - Successfully downloaded and validated loganlauton/nba-injury-stats-1951-2023\n",
      "2024-12-09 14:20:28 - INFO - Successfully downloaded all Kaggle datasets\n"
     ]
    }
   ],
   "source": [
    "# Initialize the KaggleCollector to manage dataset downloads\n",
    "kaggle = KaggleCollector('../data/raw/kaggle')\n",
    "\n",
    "# Add a task to the progress tracker for downloading Kaggle datasets\n",
    "progress.add_task('kaggle_download', total_steps=len(kaggle.datasets))\n",
    "progress.start_task('kaggle_download')\n",
    "\n",
    "try:\n",
    "    # Download all datasets from Kaggle\n",
    "    results = kaggle.download_all()\n",
    "    \n",
    "    # Check the results of the download process\n",
    "    failed = [name for name, result in results.items() if result['status'] != 'success']\n",
    "    if failed:\n",
    "        logger.error(f\"Failed to download datasets: {failed}\")\n",
    "        progress.complete_task('kaggle_download', success=False)\n",
    "    else:\n",
    "        logger.info(\"Successfully downloaded all Kaggle datasets\")\n",
    "        progress.complete_task('kaggle_download')\n",
    "        \n",
    "except Exception as e:\n",
    "    # Log any errors that occur during the download process\n",
    "    logger.error(f\"Error downloading Kaggle datasets: {str(e)}\")\n",
    "    progress.complete_task('kaggle_download', success=False, error=str(e))"
   ]
  },
  {
   "cell_type": "markdown",
   "metadata": {},
   "source": [
    "## 4. Collection Summary\n",
    "\n",
    "After completing the data collection process, this section summarizes the results. It provides details about the total number of tasks, how many were completed successfully, how many failed, and the approximate sizes of the downloaded datasets. This information helps us verify that the data collection process was successful and identify any issues that need to be addressed."
   ]
  },
  {
   "cell_type": "code",
   "execution_count": 4,
   "metadata": {},
   "outputs": [
    {
     "name": "stdout",
     "output_type": "stream",
     "text": [
      "Data Collection Summary:\n",
      "Total Tasks: 1\n",
      "Completed Successfully: 1\n",
      "Failed: 0\n",
      "Total Duration: 0:00:11.009065\n",
      "\n",
      "Dataset Sizes:\n",
      "NBA/ABA/BAA Team Statistics: Approximately 1,800+ team-season records\n",
      "NBA Shot Locations: Approximately 1,000,000+ shot records\n",
      "NBA Injury Statistics: Approximately 50,000+ injury records\n",
      "\n",
      "Task Details:\n",
      "\n",
      "kaggle_download:\n",
      "  Status: completed\n",
      "  Duration: 0:00:10.943648\n"
     ]
    }
   ],
   "source": [
    "# Get a summary of the data collection process\n",
    "summary = progress.get_summary()\n",
    "\n",
    "print(f\"Data Collection Summary:\")\n",
    "print(f\"Total Tasks: {summary['total_tasks']}\")\n",
    "print(f\"Completed Successfully: {summary['completed_tasks']}\")\n",
    "print(f\"Failed: {summary['failed_tasks']}\")\n",
    "print(f\"Total Duration: {summary['duration']}\")\n",
    "\n",
    "print(\"\\nDataset Sizes:\")\n",
    "print(\"NBA/ABA/BAA Team Statistics: Approximately 1,800+ team-season records\")\n",
    "print(\"NBA Shot Locations: Approximately 1,000,000+ shot records\")\n",
    "print(\"NBA Injury Statistics: Approximately 50,000+ injury records\")\n",
    "\n",
    "print(\"\\nTask Details:\")\n",
    "for name, task in summary['tasks'].items():\n",
    "    status = task['status']\n",
    "    duration = task['end_time'] - task['start_time'] if task['end_time'] and task['start_time'] else None\n",
    "    print(f\"\\n{name}:\")\n",
    "    print(f\"  Status: {status}\")\n",
    "    print(f\"  Duration: {duration}\")\n",
    "    if task['error']:\n",
    "        print(f\"  Error: {task['error']}\")"
   ]
  }
 ],
 "metadata": {
  "kernelspec": {
   "display_name": "venv",
   "language": "python",
   "name": "python3"
  },
  "language_info": {
   "codemirror_mode": {
    "name": "ipython",
    "version": 3
   },
   "file_extension": ".py",
   "mimetype": "text/x-python",
   "name": "python",
   "nbconvert_exporter": "python",
   "pygments_lexer": "ipython3",
   "version": "3.12.2"
  }
 },
 "nbformat": 4,
 "nbformat_minor": 2
}
