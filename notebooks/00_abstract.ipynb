{
 "cells": [
  {
   "cell_type": "markdown",
   "metadata": {},
   "source": [
    "# Abstract\n",
    "\n",
    "**Lucas Little**  \n",
    "**CSCA5622**  \n",
    "**University of Colorado Boulder**  \n",
    "\n",
    "This project, \"NBA Playoff Predictor,\" uses machine learning to predict which NBA teams will make the playoffs. Data was collected from several sources, including:\n",
    "\n",
    "- [NBA Shots Dataset](https://www.kaggle.com/datasets/mexwell/nba-shots)\n",
    "- [NBA Injury Stats Dataset](https://www.kaggle.com/datasets/loganlauton/nba-injury-stats-1951-2023)\n",
    "- [NBA/ABA/BAA Team Statistics Dataset](https://www.kaggle.com/datasets/sumitrodatta/nba-aba-baa-stats)\n",
    "\n",
    "The data includes information about teams, players, and injuries. After cleaning and organizing the data, we created useful features like team performance and player experience.\n",
    "\n",
    "We tested different machine learning models, such as Logistic Regression, Random Forest, and XGBoost, to see which one worked best. Logistic Regression was the top performer, with 83.3% accuracy on the test data.\n",
    "\n",
    "This project shows how data and machine learning can help predict playoff success. The final model is ready for use and can be improved further in the future.\n"
   ]
  }
 ],
 "metadata": {
  "language_info": {
   "name": "python"
  }
 },
 "nbformat": 4,
 "nbformat_minor": 2
}
