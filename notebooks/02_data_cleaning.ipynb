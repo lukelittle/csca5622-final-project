{
 "cells": [
  {
   "cell_type": "markdown",
   "metadata": {},
   "source": [
    "# NBA Playoff Predictor - Data Cleaning\n",
    "\n",
    "This notebook focuses on cleaning and preprocessing the raw NBA data from Kaggle sources. We'll prepare the data for feature engineering by standardizing formats, handling missing values, and ensuring data quality across different sources.\n",
    "\n",
    "## Data Sources and Cleaning Goals\n",
    "\n",
    "1. NBA/ABA/BAA Stats (sumitrodatta)\n",
    "   - Player Season Info: Contains individual player statistics per season\n",
    "     - Cleaning focuses on standardizing team names, filtering for NBA-only data, and handling missing values\n",
    "   - Team Stats Per Game: Contains team-level performance metrics\n",
    "     - Cleaning involves normalizing team names and ensuring consistent statistical calculations\n",
    "\n",
    "2. NBA Injury Stats (loganlauton)\n",
    "   - Contains historical injury data from 1951-2023\n",
    "   - Cleaning involves:\n",
    "     - Standardizing injury descriptions\n",
    "     - Converting dates to consistent format\n",
    "     - Matching team names with other datasets\n",
    "     - Removing duplicate entries\n",
    "\n",
    "3. NBA Shots Data (mexwell)\n",
    "   - Contains detailed shot location and outcome data\n",
    "   - Cleaning involves:\n",
    "     - Standardizing coordinate systems\n",
    "     - Validating shot types and distances\n",
    "     - Ensuring consistent player and team naming\n",
    "     - Removing invalid or incomplete shot records"
   ]
  },
  {
   "cell_type": "code",
   "execution_count": 12,
   "metadata": {},
   "outputs": [],
   "source": [
    "import pandas as pd\n",
    "import numpy as np\n",
    "import seaborn as sns\n",
    "import matplotlib.pyplot as plt\n",
    "import sys\n",
    "from pathlib import Path\n",
    "\n",
    "sys.path.append('..')\n",
    "\n",
    "from src.data.cleaners.sumitrodatta_cleaner import SumitrodattaCleaner\n",
    "from src.data.cleaners.loganlauton_cleaner import LoganlautonCleaner\n",
    "from src.data.cleaners.mexwell_cleaner import MexwellCleaner\n",
    "from src.data.utils import setup_logging\n",
    "\n",
    "logger = setup_logging()\n",
    "\n",
    "sns.set_theme()"
   ]
  },
  {
   "cell_type": "markdown",
   "metadata": {},
   "source": [
    "## Clean NBA/ABA/BAA Stats\n",
    "\n",
    "Process data from sumitrodatta's dataset. This section focuses on cleaning two key datasets:\n",
    "1. Player season data - individual player statistics\n",
    "2. Team stats data - aggregated team performance metrics\n",
    "\n",
    "The cleaning process ensures consistent formatting and removes any anomalies that could affect our analysis."
   ]
  },
  {
   "cell_type": "code",
   "execution_count": 13,
   "metadata": {},
   "outputs": [
    {
     "name": "stderr",
     "output_type": "stream",
     "text": [
      "2024-12-09 17:35:17 - INFO - Cleaned 32358 player season records\n",
      "2024-12-09 17:35:17 - INFO - Cleaned 1876 team statistics records\n"
     ]
    },
    {
     "name": "stdout",
     "output_type": "stream",
     "text": [
      "\n",
      "Cleaning player season data...\n",
      "Cleaned 32358 player season records\n",
      "\n",
      "Cleaning team stats data...\n",
      "Cleaned 1876 team statistics records\n"
     ]
    }
   ],
   "source": [
    "# Load and clean player season data\n",
    "sumitrodatta = SumitrodattaCleaner()\n",
    "\n",
    "player_season_df = pd.read_csv('../data/raw/kaggle/sumitrodatta/nba-aba-baa-stats/Player Season Info.csv')\n",
    "cleaned_player_season = sumitrodatta.clean_player_season_data(player_season_df)\n",
    "logger.info(f\"Cleaned {len(cleaned_player_season)} player season records\")\n",
    "\n",
    "# Load and clean team stats data\n",
    "team_stats_df = pd.read_csv('../data/raw/kaggle/sumitrodatta/nba-aba-baa-stats/Team Stats Per Game.csv')\n",
    "cleaned_team_stats = sumitrodatta.clean_team_stats_data(team_stats_df)\n",
    "logger.info(f\"Cleaned {len(cleaned_team_stats)} team statistics records\")"
   ]
  },
  {
   "cell_type": "markdown",
   "metadata": {},
   "source": [
    "## Clean NBA Injury Stats\n",
    "\n",
    "Process data from loganlauton's dataset. This section handles injury data cleaning, which is crucial for:\n",
    "- Understanding player availability\n",
    "- Analyzing team performance impact from injuries\n",
    "- Tracking injury patterns and their effect on playoff chances"
   ]
  },
  {
   "cell_type": "code",
   "execution_count": 14,
   "metadata": {},
   "outputs": [
    {
     "name": "stderr",
     "output_type": "stream",
     "text": [
      "2024-12-09 17:35:17 - INFO - Cleaned 37667 injury records\n"
     ]
    },
    {
     "name": "stdout",
     "output_type": "stream",
     "text": [
      "\n",
      "Cleaning injury data...\n",
      "Cleaned 37667 injury records\n"
     ]
    }
   ],
   "source": [
    "# Load and clean injury data\n",
    "loganlauton = LoganlautonCleaner()\n",
    "injury_df = pd.read_csv('../data/raw/kaggle/loganlauton/nba-injury-stats-1951-2023/NBA Player Injury Stats(1951 - 2023).csv')\n",
    "cleaned_injuries = loganlauton.clean_injury_data(injury_df)\n",
    "logger.info(f\"Cleaned {len(cleaned_injuries)} injury records\")"
   ]
  },
  {
   "cell_type": "markdown",
   "metadata": {},
   "source": [
    "## Clean NBA Shots Data\n",
    "\n",
    "Process data from mexwell's dataset. This section handles shot data cleaning, which provides insights into:\n",
    "- Team shooting patterns and efficiency\n",
    "- Player shooting preferences and success rates\n",
    "- Spatial analysis of scoring\n",
    "\n",
    "The cleaning process ensures accurate shot coordinates and consistent categorization of shot types."
   ]
  },
  {
   "cell_type": "code",
   "execution_count": 15,
   "metadata": {},
   "outputs": [
    {
     "name": "stderr",
     "output_type": "stream",
     "text": [
      "2024-12-09 17:35:17 - INFO - Looking for shot files in: /Users/luke/src/github.com/lukelittle/csca5622-final-project/notebooks/../data/raw/kaggle/mexwell/nba-shots\n",
      "2024-12-09 17:35:18 - INFO - Found 21 shot files:\n",
      "2024-12-09 17:35:18 - INFO - - NBA_2004_Shots.csv\n",
      "2024-12-09 17:35:18 - INFO - - NBA_2005_Shots.csv\n",
      "2024-12-09 17:35:18 - INFO - - NBA_2006_Shots.csv\n",
      "2024-12-09 17:35:18 - INFO - - NBA_2007_Shots.csv\n",
      "2024-12-09 17:35:18 - INFO - - NBA_2008_Shots.csv\n",
      "2024-12-09 17:35:18 - INFO - - NBA_2009_Shots.csv\n",
      "2024-12-09 17:35:18 - INFO - - NBA_2010_Shots.csv\n",
      "2024-12-09 17:35:18 - INFO - - NBA_2011_Shots.csv\n",
      "2024-12-09 17:35:18 - INFO - - NBA_2012_Shots.csv\n",
      "2024-12-09 17:35:18 - INFO - - NBA_2013_Shots.csv\n",
      "2024-12-09 17:35:18 - INFO - - NBA_2014_Shots.csv\n",
      "2024-12-09 17:35:18 - INFO - - NBA_2015_Shots.csv\n",
      "2024-12-09 17:35:18 - INFO - - NBA_2016_Shots.csv\n",
      "2024-12-09 17:35:18 - INFO - - NBA_2017_Shots.csv\n",
      "2024-12-09 17:35:18 - INFO - - NBA_2018_Shots.csv\n",
      "2024-12-09 17:35:18 - INFO - - NBA_2019_Shots.csv\n",
      "2024-12-09 17:35:18 - INFO - - NBA_2020_Shots.csv\n",
      "2024-12-09 17:35:18 - INFO - - NBA_2021_Shots.csv\n",
      "2024-12-09 17:35:18 - INFO - - NBA_2022_Shots.csv\n",
      "2024-12-09 17:35:18 - INFO - - NBA_2023_Shots.csv\n",
      "2024-12-09 17:35:18 - INFO - - NBA_2024_Shots.csv\n",
      "2024-12-09 17:35:18 - INFO - Loading NBA_2004_Shots.csv...\n",
      "2024-12-09 17:35:18 - INFO - Loaded 189,803 records\n",
      "2024-12-09 17:35:18 - INFO - Loading NBA_2005_Shots.csv...\n",
      "2024-12-09 17:35:19 - INFO - Loaded 197,626 records\n",
      "2024-12-09 17:35:19 - INFO - Loading NBA_2006_Shots.csv...\n",
      "2024-12-09 17:35:19 - INFO - Loaded 194,314 records\n",
      "2024-12-09 17:35:19 - INFO - Loading NBA_2007_Shots.csv...\n",
      "2024-12-09 17:35:20 - INFO - Loaded 196,072 records\n",
      "2024-12-09 17:35:20 - INFO - Loading NBA_2008_Shots.csv...\n",
      "2024-12-09 17:35:21 - INFO - Loaded 200,501 records\n",
      "2024-12-09 17:35:21 - INFO - Loading NBA_2009_Shots.csv...\n",
      "2024-12-09 17:35:21 - INFO - Loaded 199,030 records\n",
      "2024-12-09 17:35:21 - INFO - Loading NBA_2010_Shots.csv...\n",
      "2024-12-09 17:35:22 - INFO - Loaded 200,966 records\n",
      "2024-12-09 17:35:22 - INFO - Loading NBA_2011_Shots.csv...\n",
      "2024-12-09 17:35:23 - INFO - Loaded 199,761 records\n",
      "2024-12-09 17:35:23 - INFO - Loading NBA_2012_Shots.csv...\n",
      "2024-12-09 17:35:23 - INFO - Loaded 161,205 records\n",
      "2024-12-09 17:35:23 - INFO - Loading NBA_2013_Shots.csv...\n",
      "2024-12-09 17:35:24 - INFO - Loaded 201,579 records\n",
      "2024-12-09 17:35:24 - INFO - Loading NBA_2014_Shots.csv...\n",
      "2024-12-09 17:35:25 - INFO - Loaded 204,126 records\n",
      "2024-12-09 17:35:25 - INFO - Loading NBA_2015_Shots.csv...\n",
      "2024-12-09 17:35:25 - INFO - Loaded 205,550 records\n",
      "2024-12-09 17:35:25 - INFO - Loading NBA_2016_Shots.csv...\n",
      "2024-12-09 17:35:26 - INFO - Loaded 207,893 records\n",
      "2024-12-09 17:35:26 - INFO - Loading NBA_2017_Shots.csv...\n",
      "2024-12-09 17:35:27 - INFO - Loaded 209,929 records\n",
      "2024-12-09 17:35:27 - INFO - Loading NBA_2018_Shots.csv...\n",
      "2024-12-09 17:35:27 - INFO - Loaded 211,707 records\n",
      "2024-12-09 17:35:27 - INFO - Loading NBA_2019_Shots.csv...\n",
      "2024-12-09 17:35:28 - INFO - Loaded 219,458 records\n",
      "2024-12-09 17:35:28 - INFO - Loading NBA_2020_Shots.csv...\n",
      "2024-12-09 17:35:29 - INFO - Loaded 188,116 records\n",
      "2024-12-09 17:35:29 - INFO - Loading NBA_2021_Shots.csv...\n",
      "2024-12-09 17:35:29 - INFO - Loaded 190,983 records\n",
      "2024-12-09 17:35:29 - INFO - Loading NBA_2022_Shots.csv...\n",
      "2024-12-09 17:35:30 - INFO - Loaded 216,722 records\n",
      "2024-12-09 17:35:30 - INFO - Loading NBA_2023_Shots.csv...\n",
      "2024-12-09 17:35:31 - INFO - Loaded 217,220 records\n",
      "2024-12-09 17:35:31 - INFO - Loading NBA_2024_Shots.csv...\n",
      "2024-12-09 17:35:31 - INFO - Loaded 218,701 records\n",
      "2024-12-09 17:35:32 - INFO - Successfully combined 4,231,262 total records\n",
      "2024-12-09 17:35:32 - INFO - Initial data overview:\n",
      "2024-12-09 17:35:32 - INFO - Shape: (4231262, 26)\n",
      "2024-12-09 17:35:32 - INFO - Column types:\n",
      "2024-12-09 17:35:32 - INFO - SEASON_1            int64\n",
      "SEASON_2           object\n",
      "TEAM_ID             int64\n",
      "TEAM_NAME          object\n",
      "PLAYER_ID           int64\n",
      "PLAYER_NAME        object\n",
      "POSITION_GROUP     object\n",
      "POSITION           object\n",
      "GAME_DATE          object\n",
      "GAME_ID             int64\n",
      "HOME_TEAM          object\n",
      "AWAY_TEAM          object\n",
      "EVENT_TYPE         object\n",
      "SHOT_MADE            bool\n",
      "ACTION_TYPE        object\n",
      "SHOT_TYPE          object\n",
      "BASIC_ZONE         object\n",
      "ZONE_NAME          object\n",
      "ZONE_ABB           object\n",
      "ZONE_RANGE         object\n",
      "LOC_X             float64\n",
      "LOC_Y             float64\n",
      "SHOT_DISTANCE       int64\n",
      "QUARTER             int64\n",
      "MINS_LEFT           int64\n",
      "SECS_LEFT           int64\n",
      "dtype: object\n"
     ]
    },
    {
     "name": "stdout",
     "output_type": "stream",
     "text": [
      "\n",
      "Cleaning shots data...\n",
      "\n",
      "Initial column types:\n",
      "SEASON_1: int64 | Sample: 2004\n",
      "SEASON_2: object | Sample: 2003-04\n",
      "TEAM_ID: int64 | Sample: 1610612747\n",
      "TEAM_NAME: object | Sample: Los Angeles Lakers\n",
      "PLAYER_ID: int64 | Sample: 977\n",
      "PLAYER_NAME: object | Sample: Kobe Bryant\n",
      "POSITION_GROUP: object | Sample: G\n",
      "POSITION: object | Sample: SG\n",
      "GAME_DATE: object | Sample: 04-14-2004\n",
      "GAME_ID: int64 | Sample: 20301187\n",
      "HOME_TEAM: object | Sample: POR\n",
      "AWAY_TEAM: object | Sample: LAL\n",
      "EVENT_TYPE: object | Sample: Made Shot\n",
      "SHOT_MADE: bool | Sample: True\n",
      "ACTION_TYPE: object | Sample: Jump Shot\n",
      "SHOT_TYPE: object | Sample: 3PT Field Goal\n",
      "BASIC_ZONE: object | Sample: Above the Break 3\n",
      "ZONE_NAME: object | Sample: Left Side Center\n",
      "ZONE_ABB: object | Sample: LC\n",
      "ZONE_RANGE: object | Sample: 24+ ft.\n",
      "LOC_X: float64 | Sample: 20.0\n",
      "LOC_Y: float64 | Sample: 21.35\n",
      "SHOT_DISTANCE: int64 | Sample: 25\n",
      "QUARTER: int64 | Sample: 6\n",
      "MINS_LEFT: int64 | Sample: 0\n",
      "SECS_LEFT: int64 | Sample: 0\n",
      "\n",
      "Processing column: PLAYER_NAME\n",
      "Current type: object\n",
      "Converted PLAYER_NAME to string type\n",
      "Successfully cleaned PLAYER_NAME\n",
      "\n",
      "Processing column: TEAM_NAME\n",
      "Current type: object\n",
      "Converted TEAM_NAME to string type\n",
      "Successfully cleaned TEAM_NAME\n",
      "\n",
      "Processing column: EVENT_TYPE\n",
      "Current type: object\n",
      "Converted EVENT_TYPE to string type\n",
      "Successfully cleaned EVENT_TYPE\n",
      "\n",
      "Processing column: ACTION_TYPE\n",
      "Current type: object\n",
      "Converted ACTION_TYPE to string type\n",
      "Successfully cleaned ACTION_TYPE\n",
      "\n",
      "Processing column: SHOT_TYPE\n",
      "Current type: object\n",
      "Converted SHOT_TYPE to string type\n",
      "Successfully cleaned SHOT_TYPE\n",
      "\n",
      "Processing column: BASIC_ZONE\n",
      "Current type: object\n",
      "Converted BASIC_ZONE to string type\n",
      "Successfully cleaned BASIC_ZONE\n",
      "\n",
      "Processing column: ZONE_NAME\n",
      "Current type: object\n",
      "Converted ZONE_NAME to string type\n",
      "Successfully cleaned ZONE_NAME\n",
      "\n",
      "Processing column: ZONE_ABB\n",
      "Current type: object\n",
      "Converted ZONE_ABB to string type\n",
      "Successfully cleaned ZONE_ABB\n",
      "\n",
      "Processing column: ZONE_RANGE\n",
      "Current type: object\n",
      "Converted ZONE_RANGE to string type\n",
      "Successfully cleaned ZONE_RANGE\n"
     ]
    },
    {
     "name": "stderr",
     "output_type": "stream",
     "text": [
      "2024-12-09 17:35:51 - INFO - \n",
      "Cleaned 4,231,262 shot records\n",
      "2024-12-09 17:35:51 - INFO - Cleaning summary:\n",
      "2024-12-09 17:35:51 - INFO - Original records: 4,231,262\n",
      "2024-12-09 17:35:51 - INFO - Cleaned records: 4,231,262\n",
      "2024-12-09 17:35:51 - INFO - Records removed: 0\n"
     ]
    },
    {
     "name": "stdout",
     "output_type": "stream",
     "text": [
      "Cleaned 4231262 shot records\n"
     ]
    }
   ],
   "source": [
    "# Load and clean shots data\n",
    "mexwell = MexwellCleaner()\n",
    "shots_dir = Path('../data/raw/kaggle/mexwell/nba-shots')\n",
    "shots_files = list(shots_dir.glob('NBA_20[0-9][0-9]_Shots.csv')) \n",
    "\n",
    "logger.info(f\"Looking for shot files in: {shots_dir.absolute()}\")\n",
    "\n",
    "shots_data = []\n",
    "\n",
    "try:\n",
    "    # Get shot files\n",
    "    if not shots_dir.exists():\n",
    "        raise FileNotFoundError(f\"Directory not found: {shots_dir}\")\n",
    "    \n",
    "    shots_files = sorted(shots_dir.glob('NBA_20[0-9][0-9]_Shots.csv'))\n",
    "    if not shots_files:\n",
    "        raise FileNotFoundError(f\"No shot files found in {shots_dir}\")\n",
    "    \n",
    "    logger.info(f\"Found {len(shots_files)} shot files:\")\n",
    "    for file in shots_files:\n",
    "        logger.info(f\"- {file.name}\")\n",
    "\n",
    "    total_rows = 0\n",
    "    for file in shots_files:\n",
    "        logger.info(f\"Loading {file.name}...\")\n",
    "        df = pd.read_csv(file)\n",
    "        total_rows += len(df)\n",
    "        logger.info(f\"Loaded {len(df):,} records\")\n",
    "        shots_data.append(df)\n",
    "\n",
    "    shots_df = pd.concat(shots_data, ignore_index=True)\n",
    "    logger.info(f\"Successfully combined {len(shots_df):,} total records\")\n",
    "\n",
    "    logger.info(\"Initial data overview:\")\n",
    "    logger.info(f\"Shape: {shots_df.shape}\")\n",
    "    logger.info(\"Column types:\")\n",
    "    logger.info(shots_df.dtypes)\n",
    "    \n",
    "    # Clean the data\n",
    "    cleaned_shots = mexwell.clean_shots_data(shots_df)\n",
    "    logger.info(f\"\\nCleaned {len(cleaned_shots):,} shot records\")\n",
    "    \n",
    "    # Show cleaning results\n",
    "    logger.info(\"Cleaning summary:\")\n",
    "    logger.info(f\"Original records: {len(shots_df):,}\")\n",
    "    logger.info(f\"Cleaned records: {len(cleaned_shots):,}\")\n",
    "    logger.info(f\"Records removed: {len(shots_df) - len(cleaned_shots):,}\")\n",
    "\n",
    "except Exception as e:\n",
    "    logger.error(f\"Error processing shots data: {str(e)}\")\n",
    "    raise"
   ]
  },
  {
   "cell_type": "markdown",
   "metadata": {},
   "source": [
    "## Save Cleaned Data\n",
    "\n",
    "Save each cleaned dataset to its appropriate location in the processed directory.\n",
    "These cleaned datasets will be used in the feature engineering phase\n",
    "to create predictive features for our playoff prediction model."
   ]
  },
  {
   "cell_type": "code",
   "execution_count": 16,
   "metadata": {},
   "outputs": [
    {
     "name": "stdout",
     "output_type": "stream",
     "text": [
      "Saved all cleaned data\n"
     ]
    }
   ],
   "source": [
    "# Save cleaned data\n",
    "cleaned_player_season.to_csv('../data/processed/historical/player_season.csv', index=False)\n",
    "cleaned_team_stats.to_csv('../data/processed/historical/team_stats.csv', index=False)\n",
    "cleaned_injuries.to_csv('../data/processed/historical/injuries.csv', index=False)\n",
    "cleaned_shots.to_csv('../data/processed/historical/shots.csv', index=False)\n",
    "print(\"Saved all cleaned data\")"
   ]
  }
 ],
 "metadata": {
  "kernelspec": {
   "display_name": "Python 3",
   "language": "python",
   "name": "python3"
  },
  "language_info": {
   "codemirror_mode": {
    "name": "ipython",
    "version": 3
   },
   "file_extension": ".py",
   "mimetype": "text/x-python",
   "name": "python",
   "nbconvert_exporter": "python",
   "pygments_lexer": "ipython3",
   "version": "3.8.0"
  }
 },
 "nbformat": 4,
 "nbformat_minor": 4
}
